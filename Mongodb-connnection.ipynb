{
 "cells": [
  {
   "cell_type": "code",
   "execution_count": 14,
   "id": "58911957",
   "metadata": {},
   "outputs": [],
   "source": [
    "import pymongo"
   ]
  },
  {
   "cell_type": "code",
   "execution_count": 15,
   "id": "0a7ffec6",
   "metadata": {},
   "outputs": [
    {
     "name": "stdout",
     "output_type": "stream",
     "text": [
      "Welcome to py mongo\n"
     ]
    }
   ],
   "source": [
    "print(\"Welcome to py mongo\")"
   ]
  },
  {
   "cell_type": "markdown",
   "id": "783a7d6c",
   "metadata": {},
   "source": [
    "### Bydefault mongodb run on port 27017"
   ]
  },
  {
   "cell_type": "code",
   "execution_count": 16,
   "id": "574198cd",
   "metadata": {},
   "outputs": [],
   "source": [
    "client = pymongo.MongoClient(\"mongodb://localhost:27017\")"
   ]
  },
  {
   "cell_type": "code",
   "execution_count": 17,
   "id": "1e240ddb",
   "metadata": {},
   "outputs": [
    {
     "data": {
      "text/plain": [
       "MongoClient(host=['localhost:27017'], document_class=dict, tz_aware=False, connect=True)"
      ]
     },
     "execution_count": 17,
     "metadata": {},
     "output_type": "execute_result"
    }
   ],
   "source": [
    "client"
   ]
  },
  {
   "cell_type": "markdown",
   "id": "825b1a8b",
   "metadata": {},
   "source": [
    "### Create Database"
   ]
  },
  {
   "cell_type": "code",
   "execution_count": 19,
   "id": "9499df13",
   "metadata": {},
   "outputs": [],
   "source": [
    "db = client['mogodb-2']"
   ]
  },
  {
   "cell_type": "code",
   "execution_count": 20,
   "id": "9c000313",
   "metadata": {},
   "outputs": [
    {
     "data": {
      "text/plain": [
       "Database(MongoClient(host=['localhost:27017'], document_class=dict, tz_aware=False, connect=True), 'mogodb-2')"
      ]
     },
     "execution_count": 20,
     "metadata": {},
     "output_type": "execute_result"
    }
   ],
   "source": [
    "db"
   ]
  },
  {
   "cell_type": "markdown",
   "id": "05615587",
   "metadata": {},
   "source": [
    "### Create Collection "
   ]
  },
  {
   "cell_type": "code",
   "execution_count": 28,
   "id": "eae58897",
   "metadata": {},
   "outputs": [],
   "source": [
    "collection = db['mySampleCollection']"
   ]
  },
  {
   "cell_type": "code",
   "execution_count": 29,
   "id": "3d39cbe5",
   "metadata": {},
   "outputs": [
    {
     "data": {
      "text/plain": [
       "Collection(Database(MongoClient(host=['localhost:27017'], document_class=dict, tz_aware=False, connect=True), 'mogodb-2'), 'mySampleCollection')"
      ]
     },
     "execution_count": 29,
     "metadata": {},
     "output_type": "execute_result"
    }
   ],
   "source": [
    "collection"
   ]
  },
  {
   "cell_type": "markdown",
   "id": "6214c784",
   "metadata": {},
   "source": [
    "### Create Document"
   ]
  },
  {
   "cell_type": "code",
   "execution_count": 30,
   "id": "842a37f8",
   "metadata": {},
   "outputs": [
    {
     "data": {
      "text/plain": [
       "<pymongo.results.InsertOneResult at 0x7f3946ae7820>"
      ]
     },
     "execution_count": 30,
     "metadata": {},
     "output_type": "execute_result"
    }
   ],
   "source": [
    "dictionary = {\n",
    "    'name' : \"XYZ\",\n",
    "    'mark' : 45\n",
    "}\n",
    "collection.insert_one(dictionary)"
   ]
  },
  {
   "cell_type": "code",
   "execution_count": 39,
   "id": "373cee62",
   "metadata": {},
   "outputs": [
    {
     "data": {
      "text/plain": [
       "<pymongo.results.InsertManyResult at 0x7f3946b5bca0>"
      ]
     },
     "execution_count": 39,
     "metadata": {},
     "output_type": "execute_result"
    }
   ],
   "source": [
    "insertmany = [\n",
    "    {\n",
    "    'name' : \"Shavej\",\n",
    "    'mark' : 45\n",
    "    },\n",
    "    {\n",
    "    'name' : \"Junaid\",\n",
    "    'mark' : 45\n",
    "    },\n",
    "    {\n",
    "    'name' : \"Aakash\",\n",
    "    'mark' : 45\n",
    "    },\n",
    "    {\n",
    "    'name' : \"Sharvil\",\n",
    "    'mark' : 45\n",
    "    },\n",
    "    {\n",
    "    'name' : \"Rahul\",\n",
    "    'mark' : 45\n",
    "    }\n",
    "]\n",
    "collection.insert_many(insertmany)"
   ]
  },
  {
   "cell_type": "markdown",
   "id": "9a2e302f",
   "metadata": {},
   "source": [
    "### Getting Collection"
   ]
  },
  {
   "cell_type": "code",
   "execution_count": 32,
   "id": "6d0c5486",
   "metadata": {},
   "outputs": [
    {
     "data": {
      "text/plain": [
       "Collection(Database(MongoClient(host=['localhost:27017'], document_class=dict, tz_aware=False, connect=True), 'mogodb-2'), 'collection')"
      ]
     },
     "execution_count": 32,
     "metadata": {},
     "output_type": "execute_result"
    }
   ],
   "source": [
    "collection = db.collection\n",
    "collection"
   ]
  },
  {
   "cell_type": "code",
   "execution_count": 33,
   "id": "a8b90990",
   "metadata": {},
   "outputs": [],
   "source": [
    "# Search "
   ]
  },
  {
   "cell_type": "code",
   "execution_count": 34,
   "id": "9fdc8519",
   "metadata": {},
   "outputs": [
    {
     "data": {
      "text/plain": [
       "{'_id': ObjectId('6475eee794d9f15f6fae65df'), 'name': 'Shavej', 'mark': 45}"
      ]
     },
     "execution_count": 34,
     "metadata": {},
     "output_type": "execute_result"
    }
   ],
   "source": [
    "one = collection.find_one()\n",
    "one"
   ]
  },
  {
   "cell_type": "code",
   "execution_count": 36,
   "id": "4e7d9202",
   "metadata": {},
   "outputs": [
    {
     "data": {
      "text/plain": [
       "{'_id': ObjectId('6475eee794d9f15f6fae65e2'), 'name': 'Sharvil', 'mark': 45}"
      ]
     },
     "execution_count": 36,
     "metadata": {},
     "output_type": "execute_result"
    }
   ],
   "source": [
    "find_value = collection.find_one({'name': 'Sharvil'})\n",
    "find_value"
   ]
  },
  {
   "cell_type": "code",
   "execution_count": 40,
   "id": "4fdb5b95",
   "metadata": {},
   "outputs": [
    {
     "data": {
      "text/plain": [
       "<pymongo.cursor.Cursor at 0x7f3946b469d0>"
      ]
     },
     "execution_count": 40,
     "metadata": {},
     "output_type": "execute_result"
    }
   ],
   "source": [
    "all_value = collection.find({'name': 'Sharvil'})\n",
    "all_value"
   ]
  },
  {
   "cell_type": "code",
   "execution_count": 41,
   "id": "e14356c8",
   "metadata": {},
   "outputs": [
    {
     "name": "stdout",
     "output_type": "stream",
     "text": [
      "{'_id': ObjectId('6475eee794d9f15f6fae65e2'), 'name': 'Sharvil', 'mark': 45}\n",
      "{'_id': ObjectId('6475f0f994d9f15f6fae65ed'), 'name': 'Sharvil', 'mark': 45}\n"
     ]
    }
   ],
   "source": [
    "for item in all_value:\n",
    "    print(item)"
   ]
  },
  {
   "cell_type": "code",
   "execution_count": 42,
   "id": "c9cfd77a",
   "metadata": {},
   "outputs": [],
   "source": [
    "# Include particular key"
   ]
  },
  {
   "cell_type": "code",
   "execution_count": 43,
   "id": "fda6c055",
   "metadata": {},
   "outputs": [
    {
     "name": "stdout",
     "output_type": "stream",
     "text": [
      "{'name': 'Sharvil'}\n",
      "{'name': 'Sharvil'}\n"
     ]
    }
   ],
   "source": [
    "all_value = collection.find({'name': 'Sharvil'}, {\"name\": 1, \"_id\": 0})\n",
    "for item in all_value:\n",
    "    print(item)"
   ]
  },
  {
   "cell_type": "code",
   "execution_count": null,
   "id": "23c6b385",
   "metadata": {},
   "outputs": [],
   "source": []
  }
 ],
 "metadata": {
  "kernelspec": {
   "display_name": "Python 3 (ipykernel)",
   "language": "python",
   "name": "python3"
  },
  "language_info": {
   "codemirror_mode": {
    "name": "ipython",
    "version": 3
   },
   "file_extension": ".py",
   "mimetype": "text/x-python",
   "name": "python",
   "nbconvert_exporter": "python",
   "pygments_lexer": "ipython3",
   "version": "3.9.5"
  }
 },
 "nbformat": 4,
 "nbformat_minor": 5
}
